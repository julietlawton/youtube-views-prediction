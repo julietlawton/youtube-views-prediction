{
  "nbformat": 4,
  "nbformat_minor": 0,
  "metadata": {
    "colab": {
      "provenance": [],
      "authorship_tag": "ABX9TyOe+6ia2q2XBONubwRCVIOU"
    },
    "kernelspec": {
      "name": "python3",
      "display_name": "Python 3"
    },
    "language_info": {
      "name": "python"
    }
  },
  "cells": [
    {
      "cell_type": "code",
      "execution_count": null,
      "metadata": {
        "id": "KS7eIyK_kjgb"
      },
      "outputs": [],
      "source": [
        "# Import libraries\n",
        "import pandas as pd\n",
        "import numpy as np\n",
        "import seaborn as sns\n",
        "import matplotlib.pyplot as plt\n",
        "import json"
      ]
    },
    {
      "cell_type": "code",
      "source": [
        "# Load data\n",
        "youtube_df = pd.read_csv('USvideos.csv')\n",
        "youtube_df.head()"
      ],
      "metadata": {
        "id": "O0K_P1WcknJ8"
      },
      "execution_count": null,
      "outputs": []
    },
    {
      "cell_type": "code",
      "source": [
        "# Extract video category labels and ids from auxillary JSON file\n",
        "with open(\"US_category_id.json\", \"r\") as f:\n",
        "    data = json.load(f)\n",
        "\n",
        "# Create a dictionary mapping ids to lablels\n",
        "categories = {}\n",
        "for item in data['items']:\n",
        "    id = int(item['id'])\n",
        "    category = item['snippet']['title']\n",
        "    categories[id] = category\n",
        "\n",
        "print(categories)"
      ],
      "metadata": {
        "id": "0wX3lPwMkpvI"
      },
      "execution_count": null,
      "outputs": []
    }
  ]
}